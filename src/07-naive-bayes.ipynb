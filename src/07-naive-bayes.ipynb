{
 "cells": [
  {
   "cell_type": "markdown",
   "id": "4184cdd7",
   "metadata": {},
   "source": [
    "#### Importamos las cosas que necesitaremos"
   ]
  },
  {
   "cell_type": "code",
   "execution_count": 152,
   "id": "af975e26",
   "metadata": {},
   "outputs": [],
   "source": [
    "import pandas as pd\n",
    "import numpy as np\n",
    "import pandas as pd\n",
    "from haversine import haversine, Unit\n",
    "import scipy.stats as stats\n",
    "import seaborn as sns\n",
    "import matplotlib.pyplot as plt\n",
    "from sklearn.model_selection import train_test_split\n",
    "from sklearn.preprocessing import StandardScaler\n",
    "from sklearn.feature_selection import SelectKBest, f_regression\n",
    "import pickle\n",
    "from sklearn.preprocessing import OneHotEncoder\n",
    "from sklearn.linear_model import LinearRegression\n",
    "from sklearn.metrics import mean_squared_error, r2_score, accuracy_score\n",
    "from sklearn.metrics import classification_report, confusion_matrix\n",
    "from sklearn.impute import KNNImputer\n",
    "from sklearn.tree import DecisionTreeClassifier\n",
    "from sklearn.tree import plot_tree\n",
    "from sklearn.ensemble import RandomForestClassifier\n",
    "from sklearn.model_selection import GridSearchCV\n",
    "from xgboost import XGBClassifier\n",
    "from collections import Counter\n",
    "from sklearn.feature_extraction.text import TfidfVectorizer, CountVectorizer\n",
    "import re\n",
    "from sklearn.naive_bayes import BernoulliNB, MultinomialNB, GaussianNB\n"
   ]
  },
  {
   "cell_type": "markdown",
   "id": "fd7c12d6",
   "metadata": {},
   "source": [
    "#### Leemos el data set"
   ]
  },
  {
   "cell_type": "code",
   "execution_count": 153,
   "id": "a5525e54",
   "metadata": {},
   "outputs": [
    {
     "data": {
      "text/html": [
       "<div>\n",
       "<style scoped>\n",
       "    .dataframe tbody tr th:only-of-type {\n",
       "        vertical-align: middle;\n",
       "    }\n",
       "\n",
       "    .dataframe tbody tr th {\n",
       "        vertical-align: top;\n",
       "    }\n",
       "\n",
       "    .dataframe thead th {\n",
       "        text-align: right;\n",
       "    }\n",
       "</style>\n",
       "<table border=\"1\" class=\"dataframe\">\n",
       "  <thead>\n",
       "    <tr style=\"text-align: right;\">\n",
       "      <th></th>\n",
       "      <th>package_name</th>\n",
       "      <th>review</th>\n",
       "      <th>polarity</th>\n",
       "    </tr>\n",
       "  </thead>\n",
       "  <tbody>\n",
       "    <tr>\n",
       "      <th>0</th>\n",
       "      <td>com.facebook.katana</td>\n",
       "      <td>privacy at least put some option appear offli...</td>\n",
       "      <td>0</td>\n",
       "    </tr>\n",
       "    <tr>\n",
       "      <th>1</th>\n",
       "      <td>com.facebook.katana</td>\n",
       "      <td>messenger issues ever since the last update, ...</td>\n",
       "      <td>0</td>\n",
       "    </tr>\n",
       "    <tr>\n",
       "      <th>2</th>\n",
       "      <td>com.facebook.katana</td>\n",
       "      <td>profile any time my wife or anybody has more ...</td>\n",
       "      <td>0</td>\n",
       "    </tr>\n",
       "    <tr>\n",
       "      <th>3</th>\n",
       "      <td>com.facebook.katana</td>\n",
       "      <td>the new features suck for those of us who don...</td>\n",
       "      <td>0</td>\n",
       "    </tr>\n",
       "    <tr>\n",
       "      <th>4</th>\n",
       "      <td>com.facebook.katana</td>\n",
       "      <td>forced reload on uploading pic on replying co...</td>\n",
       "      <td>0</td>\n",
       "    </tr>\n",
       "    <tr>\n",
       "      <th>...</th>\n",
       "      <td>...</td>\n",
       "      <td>...</td>\n",
       "      <td>...</td>\n",
       "    </tr>\n",
       "    <tr>\n",
       "      <th>886</th>\n",
       "      <td>com.rovio.angrybirds</td>\n",
       "      <td>loved it i loooooooooooooovvved it because it...</td>\n",
       "      <td>1</td>\n",
       "    </tr>\n",
       "    <tr>\n",
       "      <th>887</th>\n",
       "      <td>com.rovio.angrybirds</td>\n",
       "      <td>all time legendary game the birthday party le...</td>\n",
       "      <td>1</td>\n",
       "    </tr>\n",
       "    <tr>\n",
       "      <th>888</th>\n",
       "      <td>com.rovio.angrybirds</td>\n",
       "      <td>ads are way to heavy listen to the bad review...</td>\n",
       "      <td>0</td>\n",
       "    </tr>\n",
       "    <tr>\n",
       "      <th>889</th>\n",
       "      <td>com.rovio.angrybirds</td>\n",
       "      <td>fun works perfectly well. ads aren't as annoy...</td>\n",
       "      <td>1</td>\n",
       "    </tr>\n",
       "    <tr>\n",
       "      <th>890</th>\n",
       "      <td>com.rovio.angrybirds</td>\n",
       "      <td>they're everywhere i see angry birds everywhe...</td>\n",
       "      <td>1</td>\n",
       "    </tr>\n",
       "  </tbody>\n",
       "</table>\n",
       "<p>891 rows × 3 columns</p>\n",
       "</div>"
      ],
      "text/plain": [
       "             package_name                                             review  \\\n",
       "0     com.facebook.katana   privacy at least put some option appear offli...   \n",
       "1     com.facebook.katana   messenger issues ever since the last update, ...   \n",
       "2     com.facebook.katana   profile any time my wife or anybody has more ...   \n",
       "3     com.facebook.katana   the new features suck for those of us who don...   \n",
       "4     com.facebook.katana   forced reload on uploading pic on replying co...   \n",
       "..                    ...                                                ...   \n",
       "886  com.rovio.angrybirds   loved it i loooooooooooooovvved it because it...   \n",
       "887  com.rovio.angrybirds   all time legendary game the birthday party le...   \n",
       "888  com.rovio.angrybirds   ads are way to heavy listen to the bad review...   \n",
       "889  com.rovio.angrybirds   fun works perfectly well. ads aren't as annoy...   \n",
       "890  com.rovio.angrybirds   they're everywhere i see angry birds everywhe...   \n",
       "\n",
       "     polarity  \n",
       "0           0  \n",
       "1           0  \n",
       "2           0  \n",
       "3           0  \n",
       "4           0  \n",
       "..        ...  \n",
       "886         1  \n",
       "887         1  \n",
       "888         0  \n",
       "889         1  \n",
       "890         1  \n",
       "\n",
       "[891 rows x 3 columns]"
      ]
     },
     "execution_count": 153,
     "metadata": {},
     "output_type": "execute_result"
    }
   ],
   "source": [
    "df = pd.read_csv(\"/workspaces/Emiliano0041-IntroML/data/raw/playstore_reviews.csv\")\n",
    "df"
   ]
  },
  {
   "cell_type": "markdown",
   "id": "bd0ba001",
   "metadata": {},
   "source": [
    "#### Comenzamos a trabajar con el data set"
   ]
  },
  {
   "cell_type": "markdown",
   "id": "addf9d8d",
   "metadata": {},
   "source": [
    "- El ejercicio dice que deberiamos eliminar la columna \"package_name\" ya que no es relevante para nuestra prediccion"
   ]
  },
  {
   "cell_type": "code",
   "execution_count": 154,
   "id": "04f3be5b",
   "metadata": {},
   "outputs": [],
   "source": [
    "df.drop(\"package_name\", axis=1, inplace=True)"
   ]
  },
  {
   "cell_type": "markdown",
   "id": "915b3343",
   "metadata": {},
   "source": [
    "- Eliminamos espacios dobles y convertimos todo el texto a minusculas"
   ]
  },
  {
   "cell_type": "code",
   "execution_count": 155,
   "id": "e176d772",
   "metadata": {},
   "outputs": [],
   "source": [
    "df[\"review\"] = df[\"review\"].str.strip().str.lower()\n",
    "texto_ = df[\"review\"]"
   ]
  },
  {
   "cell_type": "markdown",
   "id": "4ddc8b18",
   "metadata": {},
   "source": [
    "Eliminamos todo lo que no sea texto, es decir, letra o espacio."
   ]
  },
  {
   "cell_type": "code",
   "execution_count": 156,
   "id": "84b038fb",
   "metadata": {},
   "outputs": [
    {
     "data": {
      "text/plain": [
       "0      privacy at least put some option appear offlin...\n",
       "1      messenger issues ever since the last update, i...\n",
       "2      profile any time my wife or anybody has more t...\n",
       "3      the new features suck for those of us who don'...\n",
       "4      forced reload on uploading pic on replying com...\n",
       "                             ...                        \n",
       "886    loved it i loooooooooooooovvved it because it ...\n",
       "887    all time legendary game the birthday party lev...\n",
       "888    ads are way to heavy listen to the bad reviews...\n",
       "889    fun works perfectly well. ads aren't as annoyi...\n",
       "890    they're everywhere i see angry birds everywher...\n",
       "Name: review, Length: 891, dtype: object"
      ]
     },
     "execution_count": 156,
     "metadata": {},
     "output_type": "execute_result"
    }
   ],
   "source": [
    "df[\"review\"].apply(lambda x: re.sub(r'\\d+', '', x))\n"
   ]
  },
  {
   "cell_type": "markdown",
   "id": "6180156e",
   "metadata": {},
   "source": [
    "- Hacemos el split, dividimos en train y test"
   ]
  },
  {
   "cell_type": "code",
   "execution_count": 157,
   "id": "8867fffe",
   "metadata": {},
   "outputs": [],
   "source": [
    "X = df[\"review\"]\n",
    "y = df[\"polarity\"]\n",
    "\n",
    "X_train, X_test, y_train, y_test = train_test_split(X, y, \n",
    "                                                    test_size=0.2,\n",
    "                                                    random_state=22)"
   ]
  },
  {
   "cell_type": "code",
   "execution_count": 158,
   "id": "e335e6e6",
   "metadata": {},
   "outputs": [],
   "source": [
    "vec_model = CountVectorizer(stop_words = \"english\")\n",
    "X_train = vec_model.fit_transform(X_train).toarray()\n",
    "X_test = vec_model.transform(X_test).toarray()\n"
   ]
  },
  {
   "cell_type": "markdown",
   "id": "cce80eda",
   "metadata": {},
   "source": [
    "#### Modelo Bernoulli"
   ]
  },
  {
   "cell_type": "markdown",
   "id": "b98c55da",
   "metadata": {},
   "source": [
    "- Generamos el modelo, calculamos accuracy y el report."
   ]
  },
  {
   "cell_type": "code",
   "execution_count": 159,
   "id": "1602e5a9",
   "metadata": {},
   "outputs": [],
   "source": [
    "modelo_B = BernoulliNB()\n",
    "modelo_B.fit(X_train, y_train)\n",
    "y_pred = modelo_B.predict(X_test)\n",
    "\n"
   ]
  },
  {
   "cell_type": "code",
   "execution_count": 160,
   "id": "d4d5c376",
   "metadata": {},
   "outputs": [
    {
     "data": {
      "text/plain": [
       "0.7541899441340782"
      ]
     },
     "execution_count": 160,
     "metadata": {},
     "output_type": "execute_result"
    }
   ],
   "source": [
    "accuracy = accuracy_score(y_test, y_pred)\n",
    "accuracy"
   ]
  },
  {
   "cell_type": "code",
   "execution_count": 161,
   "id": "2cc00427",
   "metadata": {},
   "outputs": [
    {
     "name": "stdout",
     "output_type": "stream",
     "text": [
      "              precision    recall  f1-score   support\n",
      "\n",
      "           0       0.73      0.96      0.83       112\n",
      "           1       0.85      0.42      0.56        67\n",
      "\n",
      "    accuracy                           0.75       179\n",
      "   macro avg       0.79      0.69      0.69       179\n",
      "weighted avg       0.78      0.75      0.73       179\n",
      "\n"
     ]
    }
   ],
   "source": [
    "report = classification_report(y_test, y_pred)\n",
    "print(report)"
   ]
  },
  {
   "cell_type": "markdown",
   "id": "be8cedcf",
   "metadata": {},
   "source": [
    "#### Modelo Multinomial"
   ]
  },
  {
   "cell_type": "markdown",
   "id": "f30bdad6",
   "metadata": {},
   "source": [
    "- Generamos el modelo, calculamos accuracy y el report."
   ]
  },
  {
   "cell_type": "code",
   "execution_count": 162,
   "id": "60472754",
   "metadata": {},
   "outputs": [],
   "source": [
    "modelo_M = MultinomialNB()\n",
    "modelo_M.fit(X_train, y_train)\n",
    "y_pred_M = modelo_M.predict(X_test)\n"
   ]
  },
  {
   "cell_type": "code",
   "execution_count": 163,
   "id": "b3bc7a0c",
   "metadata": {},
   "outputs": [
    {
     "data": {
      "text/plain": [
       "0.8212290502793296"
      ]
     },
     "execution_count": 163,
     "metadata": {},
     "output_type": "execute_result"
    }
   ],
   "source": [
    "accuracy_M = accuracy_score(y_test, y_pred_M)\n",
    "accuracy_M\n"
   ]
  },
  {
   "cell_type": "code",
   "execution_count": 164,
   "id": "2e21c257",
   "metadata": {},
   "outputs": [
    {
     "name": "stdout",
     "output_type": "stream",
     "text": [
      "              precision    recall  f1-score   support\n",
      "\n",
      "           0       0.82      0.92      0.87       112\n",
      "           1       0.83      0.66      0.73        67\n",
      "\n",
      "    accuracy                           0.82       179\n",
      "   macro avg       0.82      0.79      0.80       179\n",
      "weighted avg       0.82      0.82      0.82       179\n",
      "\n"
     ]
    }
   ],
   "source": [
    "report_M = classification_report(y_test, y_pred_M)\n",
    "print(report_M)"
   ]
  },
  {
   "cell_type": "markdown",
   "id": "211156fc",
   "metadata": {},
   "source": [
    "#### Modelo de Gauss"
   ]
  },
  {
   "cell_type": "markdown",
   "id": "e2f3069c",
   "metadata": {},
   "source": [
    "- Generamos el modelo, calculamos accuracy y el report."
   ]
  },
  {
   "cell_type": "code",
   "execution_count": 165,
   "id": "9a1f093e",
   "metadata": {},
   "outputs": [],
   "source": [
    "modelo_G = GaussianNB()\n",
    "modelo_G.fit(X_train, y_train)\n",
    "y_pred_G = modelo_G.predict(X_test)"
   ]
  },
  {
   "cell_type": "code",
   "execution_count": 166,
   "id": "36a103bb",
   "metadata": {},
   "outputs": [
    {
     "data": {
      "text/plain": [
       "0.7653631284916201"
      ]
     },
     "execution_count": 166,
     "metadata": {},
     "output_type": "execute_result"
    }
   ],
   "source": [
    "accuracy_G = accuracy_score(y_test, y_pred_G)\n",
    "accuracy_G"
   ]
  },
  {
   "cell_type": "code",
   "execution_count": 167,
   "id": "896b9920",
   "metadata": {},
   "outputs": [
    {
     "name": "stdout",
     "output_type": "stream",
     "text": [
      "              precision    recall  f1-score   support\n",
      "\n",
      "           0       0.77      0.90      0.83       112\n",
      "           1       0.77      0.54      0.63        67\n",
      "\n",
      "    accuracy                           0.77       179\n",
      "   macro avg       0.77      0.72      0.73       179\n",
      "weighted avg       0.77      0.77      0.75       179\n",
      "\n"
     ]
    }
   ],
   "source": [
    "report_G = classification_report(y_test, y_pred_G)\n",
    "print(report_G)"
   ]
  }
 ],
 "metadata": {
  "kernelspec": {
   "display_name": "Python 3",
   "language": "python",
   "name": "python3"
  },
  "language_info": {
   "codemirror_mode": {
    "name": "ipython",
    "version": 3
   },
   "file_extension": ".py",
   "mimetype": "text/x-python",
   "name": "python",
   "nbconvert_exporter": "python",
   "pygments_lexer": "ipython3",
   "version": "3.11.4"
  }
 },
 "nbformat": 4,
 "nbformat_minor": 5
}
